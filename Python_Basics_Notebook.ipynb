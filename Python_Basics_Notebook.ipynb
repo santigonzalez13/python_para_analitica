{
 "cells": [
  {
   "cell_type": "markdown",
   "id": "4d83a09b",
   "metadata": {},
   "source": [
    "## Curso Intensivo de Python para Principiantes"
   ]
  },
  {
   "cell_type": "markdown",
   "id": "89bbbd0e",
   "metadata": {},
   "source": [
    "### Módulo 1: Introducción a Python y Tipos de Datos"
   ]
  },
  {
   "cell_type": "markdown",
   "id": "a85688a5",
   "metadata": {},
   "source": [
    "### 1. ¿Qué es Python?"
   ]
  },
  {
   "cell_type": "code",
   "execution_count": 27,
   "id": "fe7a4abf",
   "metadata": {},
   "outputs": [
    {
     "data": {
      "text/plain": [
       "'\\nPython es un lenguaje de programación interpretado, de alto nivel y multipropósito. \\nEs ampliamente utilizado en desarrollo web, ciencia de datos, inteligencia artificial, automatización, entre otros.\\n'"
      ]
     },
     "execution_count": 27,
     "metadata": {},
     "output_type": "execute_result"
    }
   ],
   "source": [
    "\"\"\"\n",
    "Python es un lenguaje de programación interpretado, de alto nivel y multipropósito. \n",
    "Es ampliamente utilizado en desarrollo web, ciencia de datos, inteligencia artificial, automatización, entre otros.\n",
    "\"\"\""
   ]
  },
  {
   "cell_type": "markdown",
   "id": "b0defa98",
   "metadata": {},
   "source": [
    "### 2. Tipos de Datos en Python"
   ]
  },
  {
   "cell_type": "code",
   "execution_count": 11,
   "id": "ecb8822a",
   "metadata": {},
   "outputs": [],
   "source": [
    "variable1 = \"hola mundo\""
   ]
  },
  {
   "cell_type": "code",
   "execution_count": 12,
   "id": "ae62216a",
   "metadata": {},
   "outputs": [
    {
     "name": "stdout",
     "output_type": "stream",
     "text": [
      "Entero: <class 'int'>\n",
      "Flotante: <class 'float'>\n",
      "Cadena: <class 'str'>\n",
      "Booleano: <class 'bool'>\n"
     ]
    }
   ],
   "source": [
    "# Enteros\n",
    "x = 10  # Tipo entero\n",
    "print(\"Entero:\", type(x))\n",
    "\n",
    "# Flotantes\n",
    "y = 10.5  # Tipo flotante\n",
    "print(\"Flotante:\", type(y))\n",
    "\n",
    "# Cadenas de Texto\n",
    "texto = \"Hola, Python!\"\n",
    "print(\"Cadena:\", type(texto))\n",
    "\n",
    "# Booleanos\n",
    "es_mayor = True\n",
    "print(\"Booleano:\", type(es_mayor))\n",
    "\n",
    "\n",
    "\n"
   ]
  },
  {
   "cell_type": "markdown",
   "id": "279d6ccc",
   "metadata": {},
   "source": [
    "### 3. Operaciones Básicas"
   ]
  },
  {
   "cell_type": "code",
   "execution_count": 13,
   "id": "fff6a15f",
   "metadata": {},
   "outputs": [],
   "source": [
    "variable1_suma = 23\n",
    "variable2_suma = 96\n",
    "\n",
    "suma = variable1_suma + variable2_suma"
   ]
  },
  {
   "cell_type": "code",
   "execution_count": null,
   "id": "b09f308b",
   "metadata": {},
   "outputs": [
    {
     "name": "stdout",
     "output_type": "stream",
     "text": [
      "Suma: 8\n",
      "Resta: 8\n",
      "Multiplicación: 12\n",
      "División: 3.3333333333333335\n",
      "¿5 es mayor que 3? False\n",
      "¿10 es igual a 2? True\n",
      "True y False: False\n",
      "True o False: True\n",
      "Negación de True: False\n"
     ]
    }
   ],
   "source": [
    "# Operadores Aritméticos\n",
    "suma = 5 + 3\n",
    "resta = 10 - 2\n",
    "multiplicacion = 4 * 3\n",
    "division = 10 / 3  # Siempre devuelve flotante\n",
    "\n",
    "print(\"Suma:\", suma)\n",
    "print(\"Resta:\", resta)\n",
    "print(\"Multiplicación:\", multiplicacion)\n",
    "print(\"División:\", division)\n",
    "\n",
    "# Operadores de Comparación\n",
    "print(\"¿5 es mayor que 3?\", 1 > 3)\n",
    "print(\"¿10 es igual a 2?\", 10 == 10)\n",
    "\n",
    "\n",
    "# Operadores Lógicos\n",
    "print(\"True y False:\", True and False)\n",
    "print(\"True o False:\", True or False)\n",
    "print(\"Negación de True:\", not True)"
   ]
  },
  {
   "cell_type": "markdown",
   "id": "ac82d38c",
   "metadata": {},
   "source": [
    "### Módulo 2: Estructuras de Control"
   ]
  },
  {
   "cell_type": "markdown",
   "id": "19d62b22",
   "metadata": {},
   "source": [
    "### Condicionales (if, elif, else)"
   ]
  },
  {
   "cell_type": "code",
   "execution_count": null,
   "id": "a38e4f30",
   "metadata": {},
   "outputs": [
    {
     "name": "stdout",
     "output_type": "stream",
     "text": [
      "El número es cero\n"
     ]
    }
   ],
   "source": [
    "numero = 10\n",
    "if numero > 0:\n",
    "    print(\"El número es positivo\")\n",
    "elif numero == 0:\n",
    "    print(\"El número es cero\")\n",
    "else:\n",
    "    print(\"El número es negativo\")"
   ]
  },
  {
   "cell_type": "markdown",
   "id": "9e7497f3",
   "metadata": {},
   "source": [
    "### Bucles (for y while)"
   ]
  },
  {
   "cell_type": "code",
   "execution_count": null,
   "id": "20973fac",
   "metadata": {},
   "outputs": [
    {
     "name": "stdout",
     "output_type": "stream",
     "text": [
      "Iteración: 0\n",
      "Iteración: 1\n",
      "Iteración: 2\n",
      "Iteración: 3\n",
      "Iteración: 4\n",
      "Contador: 0\n",
      "Contador: 1\n",
      "Contador: 2\n"
     ]
    }
   ],
   "source": [
    "# Uso de for\n",
    "for i in range(5):\n",
    "    print(\"Iteración:\", i)\n",
    "\n",
    "# Uso de while\n",
    "contador = 150\n",
    "while contador < 10:\n",
    "    print(f\"ALERTA----PEDIR: Unidades faltantes: \", contador)\n",
    "    contador += 1"
   ]
  },
  {
   "cell_type": "markdown",
   "id": "a72d4f98",
   "metadata": {},
   "source": [
    "### Módulo 3: Funciones y Uso de Módulos"
   ]
  },
  {
   "cell_type": "markdown",
   "id": "0081db24",
   "metadata": {},
   "source": [
    "### Creación de Funciones"
   ]
  },
  {
   "cell_type": "code",
   "execution_count": 28,
   "id": "241c492c",
   "metadata": {},
   "outputs": [],
   "source": [
    "from functions import saludar\n",
    "\n"
   ]
  },
  {
   "cell_type": "code",
   "execution_count": 29,
   "id": "7078f262",
   "metadata": {},
   "outputs": [
    {
     "name": "stdout",
     "output_type": "stream",
     "text": [
      "Hola, Luis!\n"
     ]
    }
   ],
   "source": [
    "print(saludar(\"Luis\"))"
   ]
  },
  {
   "cell_type": "markdown",
   "id": "0b02da3a",
   "metadata": {},
   "source": [
    "### Uso de Módulos"
   ]
  },
  {
   "cell_type": "code",
   "execution_count": 26,
   "id": "9c23c77d",
   "metadata": {},
   "outputs": [
    {
     "name": "stdout",
     "output_type": "stream",
     "text": [
      "Raíz cuadrada de 16: 4.0\n"
     ]
    }
   ],
   "source": [
    "import math\n",
    "print(\"Raíz cuadrada de 16:\", math.sqrt(16))"
   ]
  },
  {
   "cell_type": "code",
   "execution_count": null,
   "id": "8c4bdd79",
   "metadata": {},
   "outputs": [],
   "source": [
    "import pandas as pd\n",
    "import numpy as np"
   ]
  },
  {
   "cell_type": "markdown",
   "id": "3993210d",
   "metadata": {},
   "source": [
    "# Ejercicio práctico\n",
    "\n",
    "Contexto: Eres un analista de datos en una empresa de retail y necesitas analizar las ventas de productos en diferentes tiendas.\n",
    "\n",
    "Objetivo:\n",
    "- Calcular el total de ventas.\n",
    "- Determinar la tienda con más ventas.\n",
    "- Identificar el producto más vendido.\n",
    "\n",
    "\n",
    "# Datos de ventas\n",
    "ventas = [\n",
    "    {\"tienda\": \"Tienda A\", \"producto\": \"Laptop\", \"cantidad\": 5, \"precio_unitario\": 800},\n",
    "    {\"tienda\": \"Tienda B\", \"producto\": \"Tablet\", \"cantidad\": 10, \"precio_unitario\": 300},\n",
    "    {\"tienda\": \"Tienda A\", \"producto\": \"Smartphone\", \"cantidad\": 15, \"precio_unitario\": 600},\n",
    "    {\"tienda\": \"Tienda C\", \"producto\": \"Laptop\", \"cantidad\": 3, \"precio_unitario\": 800},\n",
    "    {\"tienda\": \"Tienda B\", \"producto\": \"Smartphone\", \"cantidad\": 8, \"precio_unitario\": 600}\n",
    "]\n"
   ]
  },
  {
   "cell_type": "code",
   "execution_count": null,
   "id": "a9aefe99",
   "metadata": {},
   "outputs": [
    {
     "name": "stdout",
     "output_type": "stream",
     "text": [
      "Total de ventas: $23200\n",
      "La tienda con más ventas es: Tienda A\n",
      "El producto más vendido es: Smartphone\n"
     ]
    }
   ],
   "source": [
    "\n",
    "# Datos de ventas\n",
    "ventas = [\n",
    "    {\"tienda\": \"Tienda A\", \"producto\": \"Laptop\", \"cantidad\": 5, \"precio_unitario\": 800},\n",
    "    {\"tienda\": \"Tienda B\", \"producto\": \"Tablet\", \"cantidad\": 10, \"precio_unitario\": 300},\n",
    "    {\"tienda\": \"Tienda A\", \"producto\": \"Smartphone\", \"cantidad\": 15, \"precio_unitario\": 600},\n",
    "    {\"tienda\": \"Tienda C\", \"producto\": \"Laptop\", \"cantidad\": 3, \"precio_unitario\": 800},\n",
    "    {\"tienda\": \"Tienda B\", \"producto\": \"Smartphone\", \"cantidad\": 8, \"precio_unitario\": 600}\n",
    "]\n",
    "\n",
    "# Cálculo del total de ventas\n",
    "ventas_totales = sum(item[\"cantidad\"] * item[\"precio_unitario\"] for item in ventas)\n",
    "print(f\"Total de ventas: ${ventas_totales}\")\n",
    "\n",
    "# Determinar la tienda con más ventas\n",
    "tiendas_ventas = {}\n",
    "for item in ventas:\n",
    "    tienda = item[\"tienda\"]\n",
    "    ingreso = item[\"cantidad\"] * item[\"precio_unitario\"]\n",
    "    tiendas_ventas[tienda] = tiendas_ventas.get(tienda, 0) + ingreso\n",
    "\n",
    "tienda_mayor_ventas = max(tiendas_ventas, key=tiendas_ventas.get)\n",
    "print(f\"La tienda con más ventas es: {tienda_mayor_ventas}\")\n",
    "\n",
    "# Identificar el producto más vendido\n",
    "productos_ventas = {}\n",
    "for item in ventas:\n",
    "    producto = item[\"producto\"]\n",
    "    cantidad = item[\"cantidad\"]\n",
    "    productos_ventas[producto] = productos_ventas.get(producto, 0) + cantidad\n",
    "\n",
    "producto_mas_vendido = max(productos_ventas, key=productos_ventas.get)\n",
    "print(f\"El producto más vendido es: {producto_mas_vendido}\")\n"
   ]
  }
 ],
 "metadata": {
  "kernelspec": {
   "display_name": "mi_entorno",
   "language": "python",
   "name": "python3"
  },
  "language_info": {
   "codemirror_mode": {
    "name": "ipython",
    "version": 3
   },
   "file_extension": ".py",
   "mimetype": "text/x-python",
   "name": "python",
   "nbconvert_exporter": "python",
   "pygments_lexer": "ipython3",
   "version": "3.12.3"
  }
 },
 "nbformat": 4,
 "nbformat_minor": 5
}
