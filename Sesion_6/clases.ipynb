{
 "cells": [
  {
   "cell_type": "code",
   "execution_count": 1,
   "metadata": {},
   "outputs": [
    {
     "name": "stdout",
     "output_type": "stream",
     "text": [
      "El perro Rex tiene 3 años.\n",
      "El perro Bella tiene 2 años.\n",
      "Rex dice: ¡Guau!\n",
      "Bella dice: ¡Guau!\n"
     ]
    }
   ],
   "source": [
    "# 1. Introducción teórica a las clases y objetos en Python\n",
    "\n",
    "# En Python, las clases son plantillas para crear objetos (instancias).\n",
    "# Las clases encapsulan datos (atributos) y comportamientos (métodos).\n",
    "# Un objeto es una instancia de una clase.\n",
    "\n",
    "# Ejemplo de una clase muy simple:\n",
    "# La clase 'Perro' tendrá atributos como 'nombre' y 'edad' y un método llamado 'ladrar'.\n",
    "\n",
    "# 2. Sintaxis básica de clases en Python\n",
    "\n",
    "class Perro:\n",
    "    # Constructor (Método especial __init__) para inicializar los atributos\n",
    "    def __init__(self, nombre, edad):\n",
    "        self.nombre = nombre  # Atributo de instancia\n",
    "        self.edad = edad      # Atributo de instancia\n",
    "    \n",
    "    # Método que define un comportamiento del objeto\n",
    "    def ladrar(self):\n",
    "        return f\"{self.nombre} dice: ¡Guau!\"\n",
    "\n",
    "# Creación de objetos (instancias de la clase)\n",
    "perro1 = Perro(\"Rex\", 3)\n",
    "perro2 = Perro(\"Bella\", 2)\n",
    "\n",
    "# Accediendo a los atributos\n",
    "print(f\"El perro {perro1.nombre} tiene {perro1.edad} años.\")\n",
    "print(f\"El perro {perro2.nombre} tiene {perro2.edad} años.\")\n",
    "\n",
    "# Llamando al método\n",
    "print(perro1.ladrar())\n",
    "print(perro2.ladrar())\n",
    "\n"
   ]
  },
  {
   "cell_type": "code",
   "execution_count": 2,
   "metadata": {},
   "outputs": [
    {
     "name": "stdout",
     "output_type": "stream",
     "text": [
      "Toyota Corolla, tiene 4 ruedas.\n",
      "Honda Civic, tiene 4 ruedas.\n"
     ]
    }
   ],
   "source": [
    "# 3. Atributos de clase y objetos\n",
    "\n",
    "# Un atributo de clase es compartido por todas las instancias (objetos) de la clase.\n",
    "class Vehiculo:\n",
    "    ruedas = 4  # Atributo de clase\n",
    "    \n",
    "    def __init__(self, marca, modelo):\n",
    "        self.marca = marca  # Atributo de instancia\n",
    "        self.modelo = modelo  # Atributo de instancia\n",
    "    \n",
    "    def descripcion(self):\n",
    "        return f\"{self.marca} {self.modelo}, tiene {Vehiculo.ruedas} ruedas.\"\n",
    "\n",
    "# Creando objetos\n",
    "coche1 = Vehiculo(\"Toyota\", \"Corolla\")\n",
    "coche2 = Vehiculo(\"Honda\", \"Civic\")\n",
    "\n",
    "# Accediendo a los atributos de clase y objetos\n",
    "print(coche1.descripcion())\n",
    "print(coche2.descripcion())\n",
    "\n"
   ]
  },
  {
   "cell_type": "code",
   "execution_count": 3,
   "metadata": {},
   "outputs": [
    {
     "name": "stdout",
     "output_type": "stream",
     "text": [
      "Hay 2 personas creadas.\n"
     ]
    }
   ],
   "source": [
    "# 4. Métodos de clase\n",
    "\n",
    "# Los métodos de clase son métodos que operan sobre la propia clase y no sobre instancias.\n",
    "# Se definen con el decorador @classmethod.\n",
    "\n",
    "class Persona:\n",
    "    contador = 0  # Atributo de clase\n",
    "\n",
    "    def __init__(self, nombre):\n",
    "        self.nombre = nombre\n",
    "        Persona.contador += 1  # Aumenta el contador cada vez que se crea una instancia\n",
    "\n",
    "    @classmethod\n",
    "    def cantidad_personas(cls):\n",
    "        return f\"Hay {cls.contador} personas creadas.\"\n",
    "\n",
    "# Creando instancias\n",
    "persona1 = Persona(\"Juan\")\n",
    "persona2 = Persona(\"Ana\")\n",
    "\n",
    "# Llamando al método de clase\n",
    "print(Persona.cantidad_personas())  # Salida: Hay 2 personas creadas.\n",
    "\n"
   ]
  },
  {
   "cell_type": "code",
   "execution_count": 4,
   "metadata": {},
   "outputs": [
    {
     "name": "stdout",
     "output_type": "stream",
     "text": [
      "'Cien años de soledad' de Gabriel García Márquez\n"
     ]
    }
   ],
   "source": [
    "# 5. Métodos especiales\n",
    "\n",
    "# Los métodos especiales permiten que un objeto interactúe con las operaciones y funciones integradas de Python.\n",
    "# Algunos ejemplos: __init__, __str__, __repr__, __add__ (para la suma de objetos), etc.\n",
    "\n",
    "# Ejemplo del método __str__ para representar un objeto como una cadena.\n",
    "class Libro:\n",
    "    def __init__(self, titulo, autor):\n",
    "        self.titulo = titulo\n",
    "        self.autor = autor\n",
    "\n",
    "    def __str__(self):\n",
    "        return f\"'{self.titulo}' de {self.autor}\"\n",
    "\n",
    "# Creando un objeto\n",
    "libro1 = Libro(\"Cien años de soledad\", \"Gabriel García Márquez\")\n",
    "\n",
    "# Mostrando el objeto usando el método __str__\n",
    "print(libro1)\n",
    "\n"
   ]
  },
  {
   "cell_type": "code",
   "execution_count": 5,
   "metadata": {},
   "outputs": [
    {
     "name": "stdout",
     "output_type": "stream",
     "text": [
      "Rex dice: ¡Guau!\n",
      "Miau dice: ¡Miau!\n"
     ]
    }
   ],
   "source": [
    "# 6. Herencia en Python\n",
    "\n",
    "# La herencia permite crear una nueva clase basada en una clase existente.\n",
    "# La clase hija hereda los atributos y métodos de la clase padre.\n",
    "\n",
    "class Animal:\n",
    "    def __init__(self, nombre):\n",
    "        self.nombre = nombre\n",
    "    \n",
    "    def hablar(self):\n",
    "        return f\"{self.nombre} hace un sonido.\"\n",
    "\n",
    "# Clase hija 'Perro' hereda de 'Animal'\n",
    "class Perro(Animal):\n",
    "    def hablar(self):\n",
    "        return f\"{self.nombre} dice: ¡Guau!\"\n",
    "\n",
    "# Clase hija 'Gato' hereda de 'Animal'\n",
    "class Gato(Animal):\n",
    "    def hablar(self):\n",
    "        return f\"{self.nombre} dice: ¡Miau!\"\n",
    "\n",
    "# Creando objetos de las clases hijas\n",
    "perro = Perro(\"Rex\")\n",
    "gato = Gato(\"Miau\")\n",
    "\n",
    "# Llamando al método hablar (polimorfismo en acción)\n",
    "print(perro.hablar())  # Salida: Rex dice: ¡Guau!\n",
    "print(gato.hablar())   # Salida: Miau dice: ¡Miau!\n"
   ]
  }
 ],
 "metadata": {
  "kernelspec": {
   "display_name": "venv",
   "language": "python",
   "name": "python3"
  },
  "language_info": {
   "codemirror_mode": {
    "name": "ipython",
    "version": 3
   },
   "file_extension": ".py",
   "mimetype": "text/x-python",
   "name": "python",
   "nbconvert_exporter": "python",
   "pygments_lexer": "ipython3",
   "version": "3.12.3"
  }
 },
 "nbformat": 4,
 "nbformat_minor": 2
}
