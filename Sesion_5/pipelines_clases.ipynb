{
 "cells": [
  {
   "cell_type": "code",
   "execution_count": 2,
   "metadata": {},
   "outputs": [],
   "source": [
    "# NOTA: Este notebook está escrito asumiendo ejecución en un entorno estándar de Jupyter\n",
    "# con scikit-learn, pandas y matplotlib instalados.\n",
    "\n",
    "import pandas as pd\n",
    "import numpy as np\n",
    "\n",
    "# Para cargar el dataset Iris directamente de scikit-learn\n",
    "from sklearn.datasets import load_iris\n",
    "\n",
    "# Para separar datos en train/test\n",
    "from sklearn.model_selection import train_test_split\n",
    "\n",
    "# Para crear y trabajar con Pipelines\n",
    "from sklearn.pipeline import Pipeline\n",
    "\n",
    "# Transformadores y modelo de ejemplo\n",
    "from sklearn.preprocessing import StandardScaler, MinMaxScaler\n",
    "from sklearn.linear_model import LogisticRegression\n",
    "\n",
    "# Para la evaluación del modelo\n",
    "from sklearn.metrics import accuracy_score\n",
    "import matplotlib.pyplot as plt\n"
   ]
  },
  {
   "cell_type": "markdown",
   "metadata": {},
   "source": [
    "# Carga del dataset\n",
    "\n",
    "El dataset Iris contiene 150 observaciones de flores de tres especies diferentes de Iris: Iris setosa, Iris versicolor, e Iris virginica. Cada observación tiene 4 características numéricas:\n",
    "\n",
    "- sepal length (cm)\n",
    "\n",
    "- sepal width (cm)\n",
    "\n",
    "- petal length (cm)\n",
    "\n",
    "- petal width (cm)\n",
    "\n",
    "Y una etiqueta de clase que indica la especie."
   ]
  },
  {
   "cell_type": "code",
   "execution_count": 3,
   "metadata": {},
   "outputs": [
    {
     "data": {
      "text/html": [
       "<div>\n",
       "<style scoped>\n",
       "    .dataframe tbody tr th:only-of-type {\n",
       "        vertical-align: middle;\n",
       "    }\n",
       "\n",
       "    .dataframe tbody tr th {\n",
       "        vertical-align: top;\n",
       "    }\n",
       "\n",
       "    .dataframe thead th {\n",
       "        text-align: right;\n",
       "    }\n",
       "</style>\n",
       "<table border=\"1\" class=\"dataframe\">\n",
       "  <thead>\n",
       "    <tr style=\"text-align: right;\">\n",
       "      <th></th>\n",
       "      <th>sepal length (cm)</th>\n",
       "      <th>sepal width (cm)</th>\n",
       "      <th>petal length (cm)</th>\n",
       "      <th>petal width (cm)</th>\n",
       "    </tr>\n",
       "  </thead>\n",
       "  <tbody>\n",
       "    <tr>\n",
       "      <th>0</th>\n",
       "      <td>5.1</td>\n",
       "      <td>3.5</td>\n",
       "      <td>1.4</td>\n",
       "      <td>0.2</td>\n",
       "    </tr>\n",
       "    <tr>\n",
       "      <th>1</th>\n",
       "      <td>4.9</td>\n",
       "      <td>3.0</td>\n",
       "      <td>1.4</td>\n",
       "      <td>0.2</td>\n",
       "    </tr>\n",
       "    <tr>\n",
       "      <th>2</th>\n",
       "      <td>4.7</td>\n",
       "      <td>3.2</td>\n",
       "      <td>1.3</td>\n",
       "      <td>0.2</td>\n",
       "    </tr>\n",
       "    <tr>\n",
       "      <th>3</th>\n",
       "      <td>4.6</td>\n",
       "      <td>3.1</td>\n",
       "      <td>1.5</td>\n",
       "      <td>0.2</td>\n",
       "    </tr>\n",
       "    <tr>\n",
       "      <th>4</th>\n",
       "      <td>5.0</td>\n",
       "      <td>3.6</td>\n",
       "      <td>1.4</td>\n",
       "      <td>0.2</td>\n",
       "    </tr>\n",
       "  </tbody>\n",
       "</table>\n",
       "</div>"
      ],
      "text/plain": [
       "   sepal length (cm)  sepal width (cm)  petal length (cm)  petal width (cm)\n",
       "0                5.1               3.5                1.4               0.2\n",
       "1                4.9               3.0                1.4               0.2\n",
       "2                4.7               3.2                1.3               0.2\n",
       "3                4.6               3.1                1.5               0.2\n",
       "4                5.0               3.6                1.4               0.2"
      ]
     },
     "execution_count": 3,
     "metadata": {},
     "output_type": "execute_result"
    }
   ],
   "source": [
    "# Cargamos el dataset Iris\n",
    "iris_data = load_iris()\n",
    "\n",
    "# iris_data es un Bunch que contiene:\n",
    "# - iris_data.data con la matriz de características\n",
    "# - iris_data.target con los valores de la clase (0, 1 o 2)\n",
    "# - iris_data.feature_names con los nombres de las características\n",
    "# - iris_data.target_names con los nombres de las clases\n",
    "\n",
    "X = pd.DataFrame(iris_data.data, columns=iris_data.feature_names)\n",
    "y = pd.Series(iris_data.target, name='class')\n",
    "\n",
    "# Revisamos las primeras filas\n",
    "X.head()\n"
   ]
  },
  {
   "cell_type": "markdown",
   "metadata": {},
   "source": [
    "# Exploración inicial de los datos\n",
    "\n",
    "Aunque es un dataset muy conocido y limpio, siempre conviene revisarlo para tener un panorama claro:\n",
    "\n"
   ]
  },
  {
   "cell_type": "code",
   "execution_count": 4,
   "metadata": {},
   "outputs": [
    {
     "name": "stdout",
     "output_type": "stream",
     "text": [
      "Dimensiones de X: (150, 4)\n",
      "Dimensiones de y: (150,)\n"
     ]
    },
    {
     "data": {
      "text/html": [
       "<div>\n",
       "<style scoped>\n",
       "    .dataframe tbody tr th:only-of-type {\n",
       "        vertical-align: middle;\n",
       "    }\n",
       "\n",
       "    .dataframe tbody tr th {\n",
       "        vertical-align: top;\n",
       "    }\n",
       "\n",
       "    .dataframe thead th {\n",
       "        text-align: right;\n",
       "    }\n",
       "</style>\n",
       "<table border=\"1\" class=\"dataframe\">\n",
       "  <thead>\n",
       "    <tr style=\"text-align: right;\">\n",
       "      <th></th>\n",
       "      <th>sepal length (cm)</th>\n",
       "      <th>sepal width (cm)</th>\n",
       "      <th>petal length (cm)</th>\n",
       "      <th>petal width (cm)</th>\n",
       "    </tr>\n",
       "  </thead>\n",
       "  <tbody>\n",
       "    <tr>\n",
       "      <th>count</th>\n",
       "      <td>150.000000</td>\n",
       "      <td>150.000000</td>\n",
       "      <td>150.000000</td>\n",
       "      <td>150.000000</td>\n",
       "    </tr>\n",
       "    <tr>\n",
       "      <th>mean</th>\n",
       "      <td>5.843333</td>\n",
       "      <td>3.057333</td>\n",
       "      <td>3.758000</td>\n",
       "      <td>1.199333</td>\n",
       "    </tr>\n",
       "    <tr>\n",
       "      <th>std</th>\n",
       "      <td>0.828066</td>\n",
       "      <td>0.435866</td>\n",
       "      <td>1.765298</td>\n",
       "      <td>0.762238</td>\n",
       "    </tr>\n",
       "    <tr>\n",
       "      <th>min</th>\n",
       "      <td>4.300000</td>\n",
       "      <td>2.000000</td>\n",
       "      <td>1.000000</td>\n",
       "      <td>0.100000</td>\n",
       "    </tr>\n",
       "    <tr>\n",
       "      <th>25%</th>\n",
       "      <td>5.100000</td>\n",
       "      <td>2.800000</td>\n",
       "      <td>1.600000</td>\n",
       "      <td>0.300000</td>\n",
       "    </tr>\n",
       "    <tr>\n",
       "      <th>50%</th>\n",
       "      <td>5.800000</td>\n",
       "      <td>3.000000</td>\n",
       "      <td>4.350000</td>\n",
       "      <td>1.300000</td>\n",
       "    </tr>\n",
       "    <tr>\n",
       "      <th>75%</th>\n",
       "      <td>6.400000</td>\n",
       "      <td>3.300000</td>\n",
       "      <td>5.100000</td>\n",
       "      <td>1.800000</td>\n",
       "    </tr>\n",
       "    <tr>\n",
       "      <th>max</th>\n",
       "      <td>7.900000</td>\n",
       "      <td>4.400000</td>\n",
       "      <td>6.900000</td>\n",
       "      <td>2.500000</td>\n",
       "    </tr>\n",
       "  </tbody>\n",
       "</table>\n",
       "</div>"
      ],
      "text/plain": [
       "       sepal length (cm)  sepal width (cm)  petal length (cm)  \\\n",
       "count         150.000000        150.000000         150.000000   \n",
       "mean            5.843333          3.057333           3.758000   \n",
       "std             0.828066          0.435866           1.765298   \n",
       "min             4.300000          2.000000           1.000000   \n",
       "25%             5.100000          2.800000           1.600000   \n",
       "50%             5.800000          3.000000           4.350000   \n",
       "75%             6.400000          3.300000           5.100000   \n",
       "max             7.900000          4.400000           6.900000   \n",
       "\n",
       "       petal width (cm)  \n",
       "count        150.000000  \n",
       "mean           1.199333  \n",
       "std            0.762238  \n",
       "min            0.100000  \n",
       "25%            0.300000  \n",
       "50%            1.300000  \n",
       "75%            1.800000  \n",
       "max            2.500000  "
      ]
     },
     "metadata": {},
     "output_type": "display_data"
    },
    {
     "name": "stdout",
     "output_type": "stream",
     "text": [
      "Distribución de la clase (y):\n",
      "class\n",
      "0    50\n",
      "1    50\n",
      "2    50\n",
      "Name: count, dtype: int64\n"
     ]
    }
   ],
   "source": [
    "# Dimensiones del dataset\n",
    "print(\"Dimensiones de X:\", X.shape)\n",
    "print(\"Dimensiones de y:\", y.shape)\n",
    "\n",
    "# Descripción estadística\n",
    "display(X.describe())\n",
    "\n",
    "# Revisamos la distribución de la variable objetivo\n",
    "print(\"Distribución de la clase (y):\")\n",
    "print(y.value_counts())\n"
   ]
  },
  {
   "cell_type": "markdown",
   "metadata": {},
   "source": [
    "Observamos:\n",
    "\n",
    "- Tenemos 150 muestras y 4 variables (todas numéricas).\n",
    "\n",
    "- El dataset está muy balanceado entre las tres clases: 50 muestras de cada especie.\n",
    "\n",
    "- En cuanto a transformaciones, podemos querer escalar los datos, generar alguna característica derivada, o incluso aplicar técnicas como PCA (Análisis de Componentes Principales).\n",
    "\n",
    "¿Qué transformaciones podríamos aplicar?\n",
    "\n",
    "- Escalado: Dado que las variables tienen distintas magnitudes (por ejemplo, la longitud de pétalo suele ser mayor que la anchura de pétalo), un escalado puede ayudar a algunos modelos a converger mejor.\n",
    "\n",
    "- Creación de nuevas características: Podríamos, por ejemplo, crear una característica que represente la razón o proporción entre la longitud y anchura de sépalo (o pétalo)."
   ]
  },
  {
   "cell_type": "markdown",
   "metadata": {},
   "source": [
    "# Introducción al concepto de Pipelines\n",
    "\n",
    "Un Pipeline en scikit-learn nos permite encadenar varios pasos de preprocesamiento/transformación y, finalmente, un estimador (modelo). De esta forma, podemos:\n",
    "\n",
    "- Evitar fugas de información (pues cada paso en el pipeline se ajusta únicamente con datos de entrenamiento).\n",
    "\n",
    "- Tener un único objeto que encapsula la secuencia de transformaciones + el modelo.\n",
    "\n",
    "- Hacer más ordenado y reproducible el flujo de preprocesamiento.\n",
    "\n",
    "La idea es algo como:\n",
    "\n",
    "[ (paso1, transformador1), (paso2, transformador2), ..., (último_paso, modelo) ]"
   ]
  },
  {
   "cell_type": "markdown",
   "metadata": {},
   "source": [
    "# Introducción al uso de clases (para transformadores personalizados)\n",
    "\n",
    "En scikit-learn, podemos crear un transformador personalizado definiendo una clase que implemente los métodos fit, transform y (opcionalmente) fit_transform. Además, se suele basar en la clase BaseEstimator y TransformerMixin de sklearn, que facilitan la compatibilidad con el ecosistema de scikit-learn.\n",
    "\n",
    "Por ejemplo, creemos una clase que genere una nueva característica: la proporción entre la longitud y la anchura del sépalo (columna sepal length (cm) / sepal width (cm)). Esta clase:\n",
    "\n",
    "- Durante fit, no necesita aprender nada; solo es un paso formal.\n",
    "\n",
    "- Durante transform, añadirá la columna sepal_ratio y devolverá el nuevo conjunto de datos."
   ]
  },
  {
   "cell_type": "code",
   "execution_count": 6,
   "metadata": {},
   "outputs": [],
   "source": [
    "from sklearn.base import BaseEstimator, TransformerMixin\n",
    "\n",
    "class SepalRatioAdder(BaseEstimator, TransformerMixin):\n",
    "    \"\"\"\n",
    "    Transformador personalizado que añade la columna 'sepal_ratio'\n",
    "    (sepal_length / sepal_width).\n",
    "    \"\"\"\n",
    "    \n",
    "    def __init__(self):\n",
    "        # En este ejemplo, no necesitamos inicializar nada en particular\n",
    "        pass\n",
    "    \n",
    "    def fit(self, X, y=None):\n",
    "        # Aquí no hacemos nada, pues no hay parámetros que aprender\n",
    "        return self\n",
    "    \n",
    "    def transform(self, X, y=None):\n",
    "        # Asegurémonos de que X sea DataFrame para mayor facilidad\n",
    "        X_ = pd.DataFrame(X, columns=iris_data.feature_names, copy=True)\n",
    "        \n",
    "        X_[\"sepal_ratio\"] = X_[\"sepal length (cm)\"] / X_[\"sepal width (cm)\"]\n",
    "        \n",
    "        return X_\n"
   ]
  },
  {
   "cell_type": "markdown",
   "metadata": {},
   "source": [
    "## ¿Por qué un transformador personalizado?\n",
    "\n",
    "Podemos encapsular cualquier lógica de preprocesamiento que no venga de serie con scikit-learn.\n",
    "El uso de clases hace que nuestro código sea más modular y mantenible."
   ]
  },
  {
   "cell_type": "markdown",
   "metadata": {},
   "source": [
    "# Aplicando todo en un Pipeline\n",
    "\n",
    "Vamos a construir un Pipeline con estos pasos:\n",
    "\n",
    "1. Añadir la nueva característica sepal_ratio (nuestra clase SepalRatioAdder).\n",
    "\n",
    "2. Escalar los datos (por ejemplo con StandardScaler).\n",
    "\n",
    "3. Entrenar un modelo de clasificación (por ejemplo LogisticRegression).\n",
    "\n",
    "Finalmente, evaluaremos la exactitud (accuracy) del modelo en un conjunto de prueba."
   ]
  },
  {
   "cell_type": "code",
   "execution_count": 7,
   "metadata": {},
   "outputs": [
    {
     "name": "stdout",
     "output_type": "stream",
     "text": [
      "Exactitud en el conjunto de prueba: 0.93\n"
     ]
    }
   ],
   "source": [
    "# Dividimos en entrenamiento y prueba\n",
    "X_train, X_test, y_train, y_test = train_test_split(\n",
    "    X, y,\n",
    "    test_size=0.2,\n",
    "    random_state=42,\n",
    "    stratify=y\n",
    ")\n",
    "\n",
    "# Definimos nuestro pipeline\n",
    "pipeline = Pipeline([\n",
    "    (\"sepal_ratio_adder\", SepalRatioAdder()),  # Paso 1: añadir columna\n",
    "    (\"scaler\", StandardScaler()),              # Paso 2: escalar datos\n",
    "    (\"clf\", LogisticRegression())              # Paso 3: modelo\n",
    "])\n",
    "\n",
    "# Ajustamos el pipeline a los datos de entrenamiento\n",
    "pipeline.fit(X_train, y_train)\n",
    "\n",
    "# Hacemos predicciones en los datos de prueba\n",
    "y_pred = pipeline.predict(X_test)\n",
    "\n",
    "# Calculamos la exactitud\n",
    "acc = accuracy_score(y_test, y_pred)\n",
    "print(f\"Exactitud en el conjunto de prueba: {acc:.2f}\")\n"
   ]
  },
  {
   "cell_type": "code",
   "execution_count": null,
   "metadata": {},
   "outputs": [],
   "source": [
    "# Podemos inspeccionar los pasos del pipeline, cada transformador y el modelo final:\n",
    "\n",
    "print(\"Pasos del pipeline:\")\n",
    "for name, step in pipeline.named_steps.items():\n",
    "    print(f\"- {name}: {step}\")\n"
   ]
  },
  {
   "cell_type": "markdown",
   "metadata": {},
   "source": [
    "Nota: Si quisiéramos ver, por ejemplo, cómo quedaron los datos transformados después de cada paso, podríamos usar pipeline.named_steps[\"sepal_ratio_adder\"].transform(X_train) (o análogo para el escalador). Sin embargo, hay que recordar que este pipeline se ajusta pensando en el flujo completo de entrenamiento."
   ]
  },
  {
   "cell_type": "markdown",
   "metadata": {},
   "source": [
    "# Visualización rápida de alguna característica\n",
    "\n",
    "Podemos hacer una visualización rápida, por ejemplo, del histograma de la nueva característica sepal_ratio tras crearse. Para ello, transformamos los datos de entrenamiento con nuestro primer paso y mostramos un histograma:"
   ]
  },
  {
   "cell_type": "code",
   "execution_count": 8,
   "metadata": {},
   "outputs": [
    {
     "data": {
      "image/png": "[encoded data removed]",
      "text/plain": [
       "<Figure size 640x480 with 1 Axes>"
      ]
     },
     "metadata": {},
     "output_type": "display_data"
    }
   ],
   "source": [
    "# Transformamos los datos de entrenamiento con nuestro custom transformer\n",
    "X_train_sepal_ratio = pipeline.named_steps[\"sepal_ratio_adder\"].transform(X_train)\n",
    "\n",
    "plt.figure()\n",
    "plt.hist(X_train_sepal_ratio[\"sepal_ratio\"], bins=10)\n",
    "plt.title(\"Distribución de la nueva característica: sepal_ratio\")\n",
    "plt.xlabel(\"sepal_ratio (sepal_length / sepal_width)\")\n",
    "plt.ylabel(\"Frecuencia\")\n",
    "plt.show()\n"
   ]
  }
 ],
 "metadata": {
  "kernelspec": {
   "display_name": "venv",
   "language": "python",
   "name": "python3"
  },
  "language_info": {
   "codemirror_mode": {
    "name": "ipython",
    "version": 3
   },
   "file_extension": ".py",
   "mimetype": "text/x-python",
   "name": "python",
   "nbconvert_exporter": "python",
   "pygments_lexer": "ipython3",
   "version": "3.12.3"
  }
 },
 "nbformat": 4,
 "nbformat_minor": 2
}
