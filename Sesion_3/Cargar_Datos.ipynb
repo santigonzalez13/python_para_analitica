{
  "cells": [
    {
      "cell_type": "markdown",
      "metadata": {
        "id": "nOHDUsxQLkOQ"
      },
      "source": [
        "# 1) Cargando el archivo manualmente al /content y leyéndolo desde línea de código"
      ]
    },
    {
      "cell_type": "markdown",
      "metadata": {
        "id": "ibdGKBtSLq5O"
      },
      "source": [
        "## Paso 1: Subir el archivo manualmente\n",
        "- Barra lateral izquierda, haz clic en el icono de carpeta.\n",
        "- Clic en el icono de subir archivo (ícono de subir) y selecciona el archivo desde tu computadora."
      ]
    },
    {
      "cell_type": "markdown",
      "metadata": {
        "id": "I1N6CEZCL5os"
      },
      "source": [
        "## Paso 2: Leer el archivo desde el código"
      ]
    },
    {
      "cell_type": "code",
      "execution_count": 2,
      "metadata": {
        "colab": {
          "base_uri": "https://localhost:8080/"
        },
        "id": "ihXMwAHzLce7",
        "outputId": "8894013a-b1e6-4b47-b039-faded09b6dcf"
      },
      "outputs": [
        {
          "name": "stdout",
          "output_type": "stream",
          "text": [
            " Cargar_Datos.ipynb\t   Salary_Data.csv\t\t    mi_archivo.csv\n",
            "'Customer Grouping.xlsx'   Sarcasm_Headlines_Dataset.json   train.csv\n",
            " Pandas_DF.ipynb\t  'Sesión_4 (2).ipynb'\n",
            "           Image          Class\n",
            "0  image3476.jpg  Miscellaneous\n",
            "1  image5198.jpg         Candle\n",
            "2  image4183.jpg        Snowman\n",
            "3  image1806.jpg  Miscellaneous\n",
            "4  image7831.jpg  Miscellaneous\n",
            "6469\n",
            "<class 'pandas.core.frame.DataFrame'>\n",
            "RangeIndex: 6469 entries, 0 to 6468\n",
            "Data columns (total 2 columns):\n",
            " #   Column  Non-Null Count  Dtype \n",
            "---  ------  --------------  ----- \n",
            " 0   Image   6469 non-null   object\n",
            " 1   Class   6469 non-null   object\n",
            "dtypes: object(2)\n",
            "memory usage: 101.2+ KB\n",
            "None\n"
          ]
        }
      ],
      "source": [
        "import pandas as pd\n",
        "\n",
        "\n",
        "# Listar archivos en el directorio actual para verificar el nombre del archivo subido\n",
        "!ls\n",
        "\n",
        "# Leer el archivo CSV (suponiendo que el archivo se llama 'data.csv')\n",
        "df = pd.read_csv('train.csv')\n",
        "\n",
        "# Mostrar las primeras filas del DataFrame\n",
        "print(df.head())\n",
        "print(len(df))\n",
        "print(df.info())\n"
      ]
    },
    {
      "cell_type": "markdown",
      "metadata": {
        "id": "nUv6oC4jNS9X"
      },
      "source": [
        "# 2) Cargar un documento desde Google Drive"
      ]
    },
    {
      "cell_type": "code",
      "execution_count": 3,
      "metadata": {
        "colab": {
          "base_uri": "https://localhost:8080/"
        },
        "id": "3xbDBVu1NWQa",
        "outputId": "fc13ecaf-5112-4ab5-81bf-a2d9817b5a9c"
      },
      "outputs": [
        {
          "name": "stderr",
          "output_type": "stream",
          "text": [
            "Downloading...\n",
            "From: https://drive.google.com/uc?id=1wvmyiVUPosVGATS8qVZM8WKfynPzqywb\n",
            "To: /home/gonzales06082002/monitoria_python/Sesion_3/mi_archivo.csv\n",
            "100%|██████████| 168k/168k [00:00<00:00, 2.12MB/s]"
          ]
        },
        {
          "name": "stdout",
          "output_type": "stream",
          "text": [
            "           Image          Class\n",
            "0  image3476.jpg  Miscellaneous\n",
            "1  image5198.jpg         Candle\n",
            "2  image4183.jpg        Snowman\n",
            "3  image1806.jpg  Miscellaneous\n",
            "4  image7831.jpg  Miscellaneous\n"
          ]
        },
        {
          "name": "stderr",
          "output_type": "stream",
          "text": [
            "\n"
          ]
        }
      ],
      "source": [
        "import pandas as pd\n",
        "import gdown\n",
        "\n",
        "# Enlace compartido de Google Drive (reemplaza con el tuyo)\n",
        "file_id = \"1wvmyiVUPosVGATS8qVZM8WKfynPzqywb\"  # Cambia esto por el ID de tu archivo\n",
        "url = f\"https://drive.google.com/uc?id={file_id}\"\n",
        "\n",
        "# Descargar el archivo\n",
        "output_path = \"mi_archivo.csv\"\n",
        "gdown.download(url, output_path, quiet=False)\n",
        "\n",
        "# Leer el archivo\n",
        "df = pd.read_csv(output_path)\n",
        "print(df.head())\n"
      ]
    },
    {
      "cell_type": "markdown",
      "metadata": {
        "id": "sNSQe4bKQg-R"
      },
      "source": [
        "# Desde un Repo público de GitHub"
      ]
    },
    {
      "cell_type": "code",
      "execution_count": 4,
      "metadata": {
        "colab": {
          "base_uri": "https://localhost:8080/"
        },
        "id": "726ccVgnOw0E",
        "outputId": "f22c636c-8866-4863-9bae-076774911d79"
      },
      "outputs": [],
      "source": [
        "import requests\n",
        "import os\n",
        "\n",
        "def download_file(file_url, file_name):\n",
        "    \"\"\"\n",
        "    Descarga un archivo desde una URL y lo guarda localmente.\n",
        "    \n",
        "    Parámetros:\n",
        "        file_url (str): URL directa del archivo en formato \"raw\".\n",
        "        file_name (str): Nombre del archivo para guardarlo localmente.\n",
        "        \n",
        "    Retorna:\n",
        "        str: Ruta del archivo guardado si la descarga es exitosa, None en caso contrario.\n",
        "    \"\"\"\n",
        "    # Descargar el archivo\n",
        "    response = requests.get(file_url)\n",
        "    \n",
        "    if response.status_code == 200:\n",
        "        with open(file_name, \"wb\") as file:\n",
        "            file.write(response.content)\n",
        "        print(f\"Archivo descargado correctamente: {file_name}\")\n",
        "        return file_name\n",
        "    else:\n",
        "        print(f\"Error al descargar el archivo. Código de estado: {response.status_code}\")\n",
        "        return None\n"
      ]
    },
    {
      "cell_type": "code",
      "execution_count": 5,
      "metadata": {},
      "outputs": [
        {
          "name": "stdout",
          "output_type": "stream",
          "text": [
            "Archivo descargado correctamente: Salary_Data.csv\n"
          ]
        },
        {
          "data": {
            "text/plain": [
              "'Salary_Data.csv'"
            ]
          },
          "execution_count": 5,
          "metadata": {},
          "output_type": "execute_result"
        }
      ],
      "source": [
        "csv_url = \"https://raw.githubusercontent.com/MainakRepositor/Datasets/f20fd12b065e2aa8d4ee436e984d275655b2de50/Salary_Data.csv\"\n",
        "download_file(csv_url, \"Salary_Data.csv\")\n"
      ]
    },
    {
      "cell_type": "code",
      "execution_count": 6,
      "metadata": {},
      "outputs": [
        {
          "name": "stdout",
          "output_type": "stream",
          "text": [
            "Archivo descargado correctamente: Customer Grouping.xlsx\n"
          ]
        },
        {
          "data": {
            "text/plain": [
              "'Customer Grouping.xlsx'"
            ]
          },
          "execution_count": 6,
          "metadata": {},
          "output_type": "execute_result"
        }
      ],
      "source": [
        "excel_url = \"https://raw.githubusercontent.com/MainakRepositor/Datasets/f20fd12b065e2aa8d4ee436e984d275655b2de50/Customer Grouping.xlsx\"  # Reemplaza con una URL real\n",
        "download_file(excel_url, \"Customer Grouping.xlsx\")\n"
      ]
    },
    {
      "cell_type": "code",
      "execution_count": 7,
      "metadata": {},
      "outputs": [
        {
          "name": "stdout",
          "output_type": "stream",
          "text": [
            "Archivo descargado correctamente: Sarcasm_Headlines_Dataset.json\n"
          ]
        },
        {
          "data": {
            "text/plain": [
              "'Sarcasm_Headlines_Dataset.json'"
            ]
          },
          "execution_count": 7,
          "metadata": {},
          "output_type": "execute_result"
        }
      ],
      "source": [
        "json_url = \"https://raw.githubusercontent.com/MainakRepositor/Datasets/f20fd12b065e2aa8d4ee436e984d275655b2de50/Sarcasm_Headlines_Dataset.json\"  # Reemplaza con una URL real\n",
        "download_file(json_url, \"Sarcasm_Headlines_Dataset.json\")\n"
      ]
    }
  ],
  "metadata": {
    "colab": {
      "provenance": []
    },
    "kernelspec": {
      "display_name": "mi_entorno",
      "language": "python",
      "name": "python3"
    },
    "language_info": {
      "codemirror_mode": {
        "name": "ipython",
        "version": 3
      },
      "file_extension": ".py",
      "mimetype": "text/x-python",
      "name": "python",
      "nbconvert_exporter": "python",
      "pygments_lexer": "ipython3",
      "version": "3.12.3"
    }
  },
  "nbformat": 4,
  "nbformat_minor": 0
}
