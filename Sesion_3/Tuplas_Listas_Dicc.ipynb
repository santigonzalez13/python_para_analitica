{
  "cells": [
    {
      "cell_type": "markdown",
      "metadata": {
        "id": "oxkHlyhTvWlo"
      },
      "source": [
        "# Tuplas vs Listas"
      ]
    },
    {
      "cell_type": "markdown",
      "metadata": {
        "id": "4UHC3rX2vglw"
      },
      "source": [
        "## Diferencias entre Listas y Tuplas en Python\n",
        "\n",
        "### Mutabilidad\n",
        "- **Lista**: Mutable. Permite modificaciones después de su creación.\n",
        "- **Tupla**: Inmutable. No permite cambios una vez creada.\n",
        "\n",
        "### Sintaxis\n",
        "- **Lista**: Definidas con corchetes `[]`, e.g., `mi_lista = [1, 2, 3]`.\n",
        "- **Tupla**: Definidas con paréntesis `()`, e.g., `mi_tupla = (1, 2, 3)`. Para una tupla de un solo elemento: `mi_tupla = (1,)`.\n",
        "\n",
        "### Uso de Memoria\n",
        "- **Lista**: Utiliza más memoria debido a la mutabilidad.\n",
        "- **Tupla**: Utiliza menos memoria al ser de tamaño fijo e inmutable.\n",
        "\n",
        "### Velocidad de Procesamiento\n",
        "- **Lista**: Puede ser más lenta comparada con la tupla debido a su capacidad de mutar.\n",
        "- **Tupla**: Generalmente más rápida que la lista en iteración debido a su inmutabilidad.\n",
        "\n",
        "### Casos de Uso\n",
        "- **Lista**: Ideal para colecciones de datos que pueden cambiar durante la vida del programa. Se usan comúnmente para almacenar colecciones de ítems homogéneos o heterogéneos donde la modificación es necesaria.\n",
        "- **Tupla**: Apropiadas para colecciones de datos que no deben cambiar, como los datos de configuración de un programa. También son útiles cuando se quiere asegurar que los datos no se modificarán accidentalmente.\n"
      ]
    },
    {
      "cell_type": "code",
      "execution_count": null,
      "metadata": {
        "colab": {
          "base_uri": "https://localhost:8080/"
        },
        "id": "KKWiLvD6vUNm",
        "outputId": "15202319-2b61-4e6a-aba0-f85f6d9ac842"
      },
      "outputs": [
        {
          "name": "stdout",
          "output_type": "stream",
          "text": [
            "[1, 2, 3, 'cuatro']\n",
            "('uno', 'dos', 'tres', 4)\n"
          ]
        }
      ],
      "source": [
        "A = [1, 2, 3, \"4\"]\n",
        "B = (\"uno\", \"dos\", \"tres\", 4)\n",
        "\n",
        "print(A)\n",
        "print(B)"
      ]
    },
    {
      "cell_type": "code",
      "execution_count": 2,
      "metadata": {
        "colab": {
          "base_uri": "https://localhost:8080/"
        },
        "id": "6uFWPAnewGCf",
        "outputId": "3d6867d6-d19d-46d0-b225-b2934235564e"
      },
      "outputs": [
        {
          "name": "stdout",
          "output_type": "stream",
          "text": [
            "<class 'list'>\n",
            "<class 'tuple'>\n"
          ]
        }
      ],
      "source": [
        "print( type(A) )\n",
        "print( type(B) )"
      ]
    },
    {
      "cell_type": "code",
      "execution_count": null,
      "metadata": {
        "colab": {
          "base_uri": "https://localhost:8080/"
        },
        "id": "7pdLkrntwHH9",
        "outputId": "99bab226-0ddf-41a4-e250-bc50854d4808"
      },
      "outputs": [
        {
          "name": "stdout",
          "output_type": "stream",
          "text": [
            "(1, 2, 3, 'cuatro')\n",
            "['uno', 'dos', 'tres', 4]\n"
          ]
        }
      ],
      "source": [
        "AA = tuple(A)\n",
        "BB = list(B)\n",
        "\n",
        "print(AA)\n",
        "print(BB)"
      ]
    },
    {
      "cell_type": "code",
      "execution_count": null,
      "metadata": {
        "colab": {
          "base_uri": "https://localhost:8080/"
        },
        "id": "GZAJENdWwIZ1",
        "outputId": "c9ead9c0-99a4-4817-9eda-1140dcb653d5"
      },
      "outputs": [
        {
          "name": "stdout",
          "output_type": "stream",
          "text": [
            "<class 'tuple'>\n",
            "<class 'list'>\n"
          ]
        }
      ],
      "source": [
        "print( type(AA) )\n",
        "print( type(BB) )"
      ]
    },
    {
      "cell_type": "code",
      "execution_count": null,
      "metadata": {
        "colab": {
          "base_uri": "https://localhost:8080/"
        },
        "id": "HMQoHasawhHU",
        "outputId": "ab182985-8566-4515-8d0e-17ac0b24a0d8"
      },
      "outputs": [
        {
          "name": "stdout",
          "output_type": "stream",
          "text": [
            "Número de '1' en AA: 1\n",
            "Índice de 'tres' en B: 2\n"
          ]
        }
      ],
      "source": [
        "# Contamos cuántas veces aparece el número 1 en la tupla AA\n",
        "print(\"Número de '1' en AA:\", AA.count(1))\n",
        "\n",
        "# Usamos index para encontrar la primera aparición de un elemento\n",
        "# Buscamos la posición del string \"tres\" en la tupla B\n",
        "print(\"Índice de 'tres' en B:\", B.index(\"tres\"))\n"
      ]
    },
    {
      "cell_type": "markdown",
      "metadata": {
        "id": "4iilDlwj61XZ"
      },
      "source": [
        "# Diccionarios\n",
        "\n",
        "Un diccionario es una colección de pares formados por una clave o llave y un valor asociado a la llave.\n",
        "\n",
        "Los datos tipo diccionario son de la forma `{clave0:valor0, clave1:valor1, clave2:valor2, ....}`\n",
        "\n",
        "A tener en cuenta que un diccionario:\n",
        "\n",
        "- No tienen orden.\n",
        "- Pueden contener datos de distintos tipos.\n",
        "- Pueden alterarse durante la ejecución de un programa (mutables).\n",
        "- Las claves son únicas, es decir, no pueden repetirse en un mismo diccionario, y pueden ser de cualquier tipo de datos inmutable."
      ]
    },
    {
      "cell_type": "code",
      "execution_count": 4,
      "metadata": {
        "colab": {
          "base_uri": "https://localhost:8080/"
        },
        "id": "OuqRbl-h65h9",
        "outputId": "aedde4fe-96f8-4b64-c090-0c662c284af7"
      },
      "outputs": [
        {
          "data": {
            "text/plain": [
              "dict"
            ]
          },
          "execution_count": 4,
          "metadata": {},
          "output_type": "execute_result"
        }
      ],
      "source": [
        "# diccionario vacio\n",
        "Dicc0 = {}\n",
        "type(Dicc0)"
      ]
    },
    {
      "cell_type": "code",
      "execution_count": 9,
      "metadata": {
        "colab": {
          "base_uri": "https://localhost:8080/"
        },
        "id": "7iASW98T8HfN",
        "outputId": "c0ac3ba9-2ea8-4e5c-af91-3821a9d98fea"
      },
      "outputs": [
        {
          "name": "stdout",
          "output_type": "stream",
          "text": [
            "{'Boyaca': 'Tunja', 'Caldas': 'Manizales', 'Antioquia': 'Medellin', 'Amazonas': 'Leticia', 'Huila': 'Neiva'}\n",
            "<class 'dict'>\n"
          ]
        }
      ],
      "source": [
        "# diccionario de strings\n",
        "Dicc1 = {\"Boyaca\":\"Tunja\", \"Caldas\":\"Manizales\", \"Antioquia\":\"Medellin\", \"Amazonas\":\"Leticia\", \"Huila\":\"Neiva\"}\n",
        "print(Dicc1, type(Dicc1), sep=\"\\n\")"
      ]
    },
    {
      "cell_type": "code",
      "execution_count": 3,
      "metadata": {
        "colab": {
          "base_uri": "https://localhost:8080/"
        },
        "id": "ENPmywgA8hp0",
        "outputId": "aab0c146-90a9-4d00-9ea9-d1dd2e3feccf"
      },
      "outputs": [
        {
          "name": "stdout",
          "output_type": "stream",
          "text": [
            "{'Nombre': 'Julian', 'Edad': 55, 'Estatura': 1.86, 'Pensionado': False, 1010123: 'unknow'}\n",
            "<class 'dict'>\n",
            "{'Nombre': 'Sarah', 'Edad': 68, 'Estatura': 1.63, 'Pensionado': True, 4563.23: 'error'}\n",
            "<class 'dict'>\n"
          ]
        }
      ],
      "source": [
        "# diccionario con mezcla de tipos de datos\n",
        "pers1 = {\"Nombre\":\"Julian\", \"Edad\":55, \"Estatura\":1.86, \"Pensionado\":False, 1010123:\"unknow\"}\n",
        "pers2 = {\"Nombre\":\"Sarah\", \"Edad\":68, \"Estatura\":1.63, \"Pensionado\":True, 4563.23:\"error\"}\n",
        "print(pers1, type(pers1), sep=\"\\n\")\n",
        "print(pers2, type(pers2), sep=\"\\n\")"
      ]
    },
    {
      "cell_type": "code",
      "execution_count": 5,
      "metadata": {
        "colab": {
          "base_uri": "https://localhost:8080/"
        },
        "id": "8L4O4GVC86I7",
        "outputId": "b1201580-3c2f-4a12-f5d8-aac1ac32a848"
      },
      "outputs": [
        {
          "data": {
            "text/plain": [
              "dict"
            ]
          },
          "execution_count": 5,
          "metadata": {},
          "output_type": "execute_result"
        }
      ],
      "source": [
        "Ganadores = {\"Semana1\":[2,3,8,9],\"Semana2\":[12,13,96,19]}\n",
        "type(Ganadores)"
      ]
    },
    {
      "cell_type": "code",
      "execution_count": 6,
      "metadata": {
        "colab": {
          "base_uri": "https://localhost:8080/"
        },
        "id": "qVfI8LKd9RZH",
        "outputId": "7bfe3a16-8ccf-4dcc-9207-25d9b1b4a86d"
      },
      "outputs": [
        {
          "data": {
            "text/plain": [
              "dict"
            ]
          },
          "execution_count": 6,
          "metadata": {},
          "output_type": "execute_result"
        }
      ],
      "source": [
        "sector = {\"Empresa1\":{\"Nit\":13546, \"No_Empleados\":65},\"Empresa2\":{\"Nit\":8552221, \"No_Empleados\":100}}\n",
        "type(sector)"
      ]
    },
    {
      "cell_type": "code",
      "execution_count": 10,
      "metadata": {
        "colab": {
          "base_uri": "https://localhost:8080/"
        },
        "id": "dxDShAI59o0K",
        "outputId": "5d4bf877-dd86-42b8-8ee1-feec659e2beb"
      },
      "outputs": [
        {
          "name": "stdout",
          "output_type": "stream",
          "text": [
            "{'Nit': 13546, 'No_Empleados': 65}\n",
            "Julian\n"
          ]
        }
      ],
      "source": [
        "print(sector[\"Empresa1\"])\n",
        "print(pers1[\"Nombre\"])"
      ]
    },
    {
      "cell_type": "code",
      "execution_count": 11,
      "metadata": {
        "colab": {
          "base_uri": "https://localhost:8080/"
        },
        "id": "bR3ZoDWW-JjG",
        "outputId": "e0e03c0a-0869-4368-8546-088ca9c11782"
      },
      "outputs": [
        {
          "data": {
            "text/plain": [
              "{'Empresa1': {'Nit': 13546, 'No_Empleados': 65},\n",
              " 'Empresa2': {'Nit': 8552221, 'No_Empleados': 100}}"
            ]
          },
          "execution_count": 11,
          "metadata": {},
          "output_type": "execute_result"
        }
      ],
      "source": [
        "sector"
      ]
    },
    {
      "cell_type": "code",
      "execution_count": 13,
      "metadata": {
        "colab": {
          "base_uri": "https://localhost:8080/"
        },
        "id": "2wJCin4B-MVt",
        "outputId": "dc74c910-f791-4b48-fe37-d23af372046b"
      },
      "outputs": [
        {
          "name": "stdout",
          "output_type": "stream",
          "text": [
            "Esta empresa no existe\n",
            "Julian\n"
          ]
        }
      ],
      "source": [
        "print(sector.get(\"Empresa1333\", \"Esta empresa no existe\"))\n",
        "print(pers1.get(\"Nombre\"))"
      ]
    },
    {
      "cell_type": "markdown",
      "metadata": {
        "id": "pMnmjY96-iu4"
      },
      "source": [
        "# Otras funciones"
      ]
    },
    {
      "cell_type": "code",
      "execution_count": 11,
      "metadata": {
        "colab": {
          "base_uri": "https://localhost:8080/"
        },
        "id": "F2Iqxg6p_d0K",
        "outputId": "eb24c313-45ac-4f3b-f1bb-264637160d02"
      },
      "outputs": [
        {
          "data": {
            "text/plain": [
              "7"
            ]
          },
          "execution_count": 11,
          "metadata": {},
          "output_type": "execute_result"
        }
      ],
      "source": [
        "curiosos = {2:\"unico par primo\", 9:\"el principio y el fin\", 23:\"acontecimientos famosos\", 13:\"suerte\", 26:\"unico en medio de cuadrado y cubo\",\n",
        "            -1:\"el mas importante\", 73:\"espejo\"}\n",
        "len(curiosos)"
      ]
    },
    {
      "cell_type": "code",
      "execution_count": 12,
      "metadata": {
        "colab": {
          "base_uri": "https://localhost:8080/"
        },
        "id": "Kzf3-7Ln_Zop",
        "outputId": "8f931af6-4081-4e62-f784-1657c7414b40"
      },
      "outputs": [
        {
          "data": {
            "text/plain": [
              "-1"
            ]
          },
          "execution_count": 12,
          "metadata": {},
          "output_type": "execute_result"
        }
      ],
      "source": [
        "min(curiosos)"
      ]
    },
    {
      "cell_type": "code",
      "execution_count": 13,
      "metadata": {
        "colab": {
          "base_uri": "https://localhost:8080/"
        },
        "id": "y362Xn2F_qAa",
        "outputId": "54b0785d-2872-4a7b-cef3-1c90dfdffa0b"
      },
      "outputs": [
        {
          "data": {
            "text/plain": [
              "73"
            ]
          },
          "execution_count": 13,
          "metadata": {},
          "output_type": "execute_result"
        }
      ],
      "source": [
        "max(curiosos)"
      ]
    },
    {
      "cell_type": "code",
      "execution_count": 14,
      "metadata": {
        "colab": {
          "base_uri": "https://localhost:8080/"
        },
        "id": "lcaACLmh_ssS",
        "outputId": "842b559f-2633-4b1e-df3e-ef6086bc4c9a"
      },
      "outputs": [
        {
          "data": {
            "text/plain": [
              "145"
            ]
          },
          "execution_count": 14,
          "metadata": {},
          "output_type": "execute_result"
        }
      ],
      "source": [
        "sum(curiosos)"
      ]
    },
    {
      "cell_type": "code",
      "execution_count": 15,
      "metadata": {
        "colab": {
          "base_uri": "https://localhost:8080/"
        },
        "id": "1fMALo2Q_2XN",
        "outputId": "0c333a3d-cfca-4e42-dd27-e24d91b769f1"
      },
      "outputs": [
        {
          "name": "stdout",
          "output_type": "stream",
          "text": [
            "False\n",
            "True\n"
          ]
        }
      ],
      "source": [
        "print(6 in curiosos, 23 in curiosos, sep=\"\\n\")"
      ]
    },
    {
      "cell_type": "markdown",
      "metadata": {
        "id": "RnDwnii8AB5p"
      },
      "source": [
        "- `d.keys()` : Devuelve un iterador sobre las claves de un diccionario.\n",
        "- `d.values()` : Devuelve un iterador sobre los valores de un diccionario.\n",
        "- `d.items()` : Devuelve un iterador sobre los pares clave-valor de un diccionario."
      ]
    },
    {
      "cell_type": "code",
      "execution_count": null,
      "metadata": {
        "colab": {
          "base_uri": "https://localhost:8080/"
        },
        "id": "2Ty14usFADIt",
        "outputId": "c7206280-9bdd-41f0-e479-e2f27d50a01a"
      },
      "outputs": [
        {
          "data": {
            "text/plain": [
              "dict_keys([2, 9, 23, 13, 26, -1, 73])"
            ]
          },
          "execution_count": 17,
          "metadata": {},
          "output_type": "execute_result"
        }
      ],
      "source": [
        "type(curiosos.keys())"
      ]
    },
    {
      "cell_type": "code",
      "execution_count": 25,
      "metadata": {
        "colab": {
          "base_uri": "https://localhost:8080/"
        },
        "id": "m3ba1WlIAKpX",
        "outputId": "355e3a27-9990-4013-86fa-b0d59f43bbd0"
      },
      "outputs": [
        {
          "data": {
            "text/plain": [
              "dict_values"
            ]
          },
          "execution_count": 25,
          "metadata": {},
          "output_type": "execute_result"
        }
      ],
      "source": [
        "type(curiosos.values())"
      ]
    },
    {
      "cell_type": "code",
      "execution_count": 23,
      "metadata": {
        "colab": {
          "base_uri": "https://localhost:8080/"
        },
        "id": "CKuBhyXmAQ2Y",
        "outputId": "89acf780-2964-41d8-d491-e181cd4f95ef"
      },
      "outputs": [
        {
          "data": {
            "text/plain": [
              "dict_items([(2, 'unico par primo'), (9, 'el principio y el fin'), (23, 'acontecimientos famosos'), (13, 'suerte'), (26, 'unico en medio de cuadrado y cubo'), (-1, 'el mas importante'), (73, 'espejo')])"
            ]
          },
          "execution_count": 23,
          "metadata": {},
          "output_type": "execute_result"
        }
      ],
      "source": [
        "curiosos.items()"
      ]
    },
    {
      "cell_type": "markdown",
      "metadata": {
        "id": "NFgZkSFcA4_E"
      },
      "source": [
        "## Ejemplo"
      ]
    },
    {
      "cell_type": "code",
      "execution_count": 27,
      "metadata": {
        "id": "iz9OUwGRA363"
      },
      "outputs": [],
      "source": [
        "client={1501207:\n",
        "                {\"nombre\":\"Pedro\",\n",
        "                \"email\":\"pedrin@cenia.mx\",\n",
        "                \"VIP\":True,\n",
        "                \"Compra\":{\"Fecha\":\"02/02/2023\",\n",
        "                           \"Pedido\":[\"Agua\", \"comidaPerro\", \"Cervezas\"],\n",
        "                           \"Costo\":45000}\n",
        "                 },\n",
        "        8840529:\n",
        "                {\"nombre\":\"Ricardo\",\n",
        "                \"email\":\"richi_89@gmail.co\",\n",
        "                \"VIP\":True,\n",
        "                \"Compra\":{\"Fecha\":\"14/02/2023\",\n",
        "                           \"Pedido\":[\"Arroz\", \"Pollo\", \"Papas\", \"Moras\"],\n",
        "                           \"Costo\":67850}\n",
        "                 },\n",
        "        5170102:\n",
        "                {\"nombre\":\"Samantha\",\n",
        "                \"email\":\"smth@edu.com\",\n",
        "                \"VIP\":False,\n",
        "                \"Compra\":{\"Fecha\":\"28/01/2023\",\n",
        "                           \"Pedido\":[\"Leche\", \"Verduras\"],\n",
        "                           \"Costo\":12500}\n",
        "                 },\n",
        "        90915628:\n",
        "                {\"nombre\":\"Lucero\",\n",
        "                \"email\":\"luce_thebest@comarca.es\",\n",
        "                \"VIP\":False},\n",
        "        25259902:\n",
        "                {\"nombre\":\"Norman\",\n",
        "                \"email\":\"novelas_norman@editorial.fr\",\n",
        "                \"VIP\":True,\n",
        "                \"Compra\":{\"Fecha\":\"17/01/2023\",\n",
        "                           \"Pedido\":[\"cremaDental\"],\n",
        "                           \"Costo\":14200}\n",
        "                 },\n",
        "        10001007:\n",
        "                {\"nombre\":\"Laura\",\n",
        "                \"email\":\"lau-laura@outlook.xp\",\n",
        "                \"VIP\":True,\n",
        "                \"Compra\":{\"Fecha\":\"14/02/2023\",\n",
        "                           \"Pedido\":[\"Alcohol\", \"Desodorante\", \"Cocos\", \"Bananos\"],\n",
        "                           \"Costo\": 38900}\n",
        "                 }\n",
        "}\n"
      ]
    },
    {
      "cell_type": "code",
      "execution_count": 32,
      "metadata": {
        "colab": {
          "base_uri": "https://localhost:8080/",
          "height": 35
        },
        "id": "jb73JP3bBLcm",
        "outputId": "6c4b130a-5752-4895-9ed5-136301f24adf"
      },
      "outputs": [
        {
          "data": {
            "application/vnd.google.colaboratory.intrinsic+json": {
              "type": "string"
            },
            "text/plain": [
              "'Alcohol'"
            ]
          },
          "execution_count": 32,
          "metadata": {},
          "output_type": "execute_result"
        }
      ],
      "source": [
        "client[10001007][\"Compra\"][\"Pedido\"][0]"
      ]
    },
    {
      "cell_type": "code",
      "execution_count": 33,
      "metadata": {
        "colab": {
          "base_uri": "https://localhost:8080/"
        },
        "id": "4RN-rAC9Cjgy",
        "outputId": "e97ca03c-66ac-4ecf-9e92-1a372278249e"
      },
      "outputs": [
        {
          "data": {
            "text/plain": [
              "dict_keys([1501207, 8840529, 5170102, 90915628, 25259902, 10001007])"
            ]
          },
          "execution_count": 33,
          "metadata": {},
          "output_type": "execute_result"
        }
      ],
      "source": [
        "client.keys()"
      ]
    },
    {
      "cell_type": "markdown",
      "metadata": {
        "id": "Cem_VcPeC58o"
      },
      "source": [
        "# Condicionales (if)\n",
        "\n",
        "Su estrucctura es:\n",
        "\n",
        ">`if` `condición1`: \\\\\n",
        ">    `bloque de código1` \\\\\n",
        ">`elif` `condición2:` \\\\\n",
        ">    `bloque de código2` \\\\\n",
        ">`elif` `condición3:` \\\\\n",
        ">    `bloque de código3` \\\\\n",
        ">  `. . .` \\\\\n",
        ">  `. . .` \\\\\n",
        ">`else :` \\\\\n",
        ">    `bloque código_n`\n",
        "\n",
        "El flujo de ejecución empieza por evaluar la expresión lógica `condición1`; de ser `True` se procede a efectuar las líneas en `bloque de código1`, si es `False` evalúa las siguientes condiciones hasta llegar a la primera que es `True` y ejecuta su bloque de código asociado. Si ninguna condición es True ejecuta el bloque de código después de la instrucción `else`. En el momento en que se realice cualquier bloque de código se da por terminado el flujo de ejecución del `if`.\n",
        "\n",
        "**Reglas de construcción de un condicionales `if`:**\n",
        "\n",
        "- Pueden aparecer varios (o ninguno) bloques `elif` pero solo uno (o ninguno) `else` al final.\n",
        "\n",
        "- Los bloques de código deben estar indentados por 4 espacios.\n"
      ]
    },
    {
      "cell_type": "code",
      "execution_count": 36,
      "metadata": {
        "colab": {
          "base_uri": "https://localhost:8080/"
        },
        "id": "jkZMkVkcC-YV",
        "outputId": "1146f0d1-6702-4ab8-e3cd-9bce2c5e76ed"
      },
      "outputs": [
        {
          "name": "stdout",
          "output_type": "stream",
          "text": [
            "Rapidez a la que se desplaza el automóvil (Km/h): 120\n",
            "EXCESO - BAJE LA VELOCIDAD\n"
          ]
        }
      ],
      "source": [
        "V = float(input(\"Rapidez a la que se desplaza el automóvil (Km/h): \"))\n",
        "if V < 80:\n",
        "  print(\"Velocidad Moderada\")\n",
        "else:\n",
        "  print(\"EXCESO - BAJE LA VELOCIDAD\")"
      ]
    },
    {
      "cell_type": "code",
      "execution_count": 41,
      "metadata": {
        "colab": {
          "base_uri": "https://localhost:8080/"
        },
        "id": "01z6uVhwD3IY",
        "outputId": "333190b0-917d-4a62-f055-7f81fd9611ce"
      },
      "outputs": [
        {
          "name": "stdout",
          "output_type": "stream",
          "text": [
            "Dame un numero natural: 9\n",
            "Es un numero impar\n"
          ]
        }
      ],
      "source": [
        "n = int(input(\"Dame un numero natural: \"))\n",
        "if n%2 == 0:\n",
        "  print(\"Es un numero par\")\n",
        "elif n%2 ==1:\n",
        "  print(\"Es un numero impar\")"
      ]
    },
    {
      "cell_type": "code",
      "execution_count": 19,
      "metadata": {
        "colab": {
          "base_uri": "https://localhost:8080/"
        },
        "id": "mR2PUnw5EnP7",
        "outputId": "b75035f1-cd12-4a49-e858-40fc6bf12f87"
      },
      "outputs": [
        {
          "name": "stdout",
          "output_type": "stream",
          "text": [
            "Nota invalida\n"
          ]
        }
      ],
      "source": [
        "Nota=float(input(\"Ingrese su nota definitiva: \"))\n",
        "\n",
        "if Nota<0 or Nota>5:\n",
        "    print(\"Nota invalida\")\n",
        "elif Nota<1.5:\n",
        "    print(\"Deficiente\")\n",
        "elif Nota<3:\n",
        "    print(\"Insuficiente\")\n",
        "elif Nota<4:\n",
        "    print(\"Aceptable\")\n",
        "elif Nota<4.5:\n",
        "    print(\"Sobresaliente\")\n",
        "else:\n",
        "    print(\"Exelente\")"
      ]
    },
    {
      "cell_type": "code",
      "execution_count": 44,
      "metadata": {
        "colab": {
          "base_uri": "https://localhost:8080/"
        },
        "id": "PaW6mQBvFZHb",
        "outputId": "238d32ca-a010-4d12-e132-ecab1a85e314"
      },
      "outputs": [
        {
          "name": "stdout",
          "output_type": "stream",
          "text": [
            "Escribe un dia de la semana: Lunes\n",
            "Dia entre semana\n"
          ]
        }
      ],
      "source": [
        "L1 = [\"Lunes\", \"Martes\", \"Miercoles\", \"Jueves\", \"Viernes\"]\n",
        "L2 = [\"Sabado\", \"Domingo\"]\n",
        "dia = input(\"Escribe un dia de la semana: \").title()\n",
        "if dia in L1:\n",
        "  print(\"Dia entre semana\")\n",
        "elif dia in L2:\n",
        "  print(\"Dia de fin de semana\")\n",
        "else:\n",
        "  print(\"Caracter invalido\")"
      ]
    },
    {
      "cell_type": "markdown",
      "metadata": {
        "id": "-VI7hisVGTHc"
      },
      "source": [
        "**Escriban un programa que reciba 2 numeros e imprima en pantalla el menor**"
      ]
    },
    {
      "cell_type": "code",
      "execution_count": 45,
      "metadata": {
        "colab": {
          "base_uri": "https://localhost:8080/"
        },
        "id": "mmhwg71kGfUr",
        "outputId": "04c6d63d-d273-4b9e-a7bf-7e05944a68b3"
      },
      "outputs": [
        {
          "name": "stdout",
          "output_type": "stream",
          "text": [
            "Dame un numero natural: 9\n",
            "Dame otro numero natural: 3\n",
            "3\n"
          ]
        }
      ],
      "source": [
        "n1 = int(input(\"Dame un numero natural: \"))\n",
        "n2 = int(input(\"Dame otro numero natural: \"))\n",
        "\n",
        "if n1 < n2:\n",
        "    print(n1)\n",
        "\n",
        "else:\n",
        "    print(n2)"
      ]
    },
    {
      "cell_type": "code",
      "execution_count": 46,
      "metadata": {
        "colab": {
          "base_uri": "https://localhost:8080/"
        },
        "id": "vdyRij9RHy3v",
        "outputId": "865df1cb-fef8-416f-cea0-f31f0894be7a"
      },
      "outputs": [
        {
          "name": "stdout",
          "output_type": "stream",
          "text": [
            "Ingresa el primer número: 9\n",
            "Ingresa el segundo número: 3\n",
            "El número menor es:  3.0\n"
          ]
        }
      ],
      "source": [
        "# Función para encontrar el número menor\n",
        "\n",
        "def encontrar_menor(num1, num2):\n",
        "\n",
        "    if num1 < num2:\n",
        "\n",
        "        return num1\n",
        "\n",
        "    else:\n",
        "\n",
        "        return num2\n",
        "\n",
        "# Recepción de números\n",
        "\n",
        "numero1 = float(input(\"Ingresa el primer número: \"))\n",
        "\n",
        "numero2 = float(input(\"Ingresa el segundo número: \"))\n",
        "\n",
        "# Llamada a la función y impresión del resultado\n",
        "\n",
        "print(\"El número menor es: \", encontrar_menor(numero1, numero2))\n"
      ]
    },
    {
      "cell_type": "code",
      "execution_count": 47,
      "metadata": {
        "colab": {
          "base_uri": "https://localhost:8080/"
        },
        "id": "QgTUJgV9H9Kh",
        "outputId": "9c89cf36-39cd-416a-c5d2-1b3b131ecaba"
      },
      "outputs": [
        {
          "name": "stdout",
          "output_type": "stream",
          "text": [
            "Por favor digite el primer número9\n",
            "Por favor digite el segundo número3\n",
            "El número menor entre ellos es el segundo que se digitó 3\n"
          ]
        }
      ],
      "source": [
        "Num1=input(\"Por favor digite el primer número\")\n",
        "Num2=input(\"Por favor digite el segundo número\")\n",
        "if Num1<Num2:\n",
        "  print(\"El número menor entre ellos es el primero que se digitó\", Num1)\n",
        "else:\n",
        "  print(\"El número menor entre ellos es el segundo que se digitó\", Num2)"
      ]
    }
  ],
  "metadata": {
    "colab": {
      "provenance": []
    },
    "kernelspec": {
      "display_name": "mi_entorno",
      "language": "python",
      "name": "python3"
    },
    "language_info": {
      "codemirror_mode": {
        "name": "ipython",
        "version": 3
      },
      "file_extension": ".py",
      "mimetype": "text/x-python",
      "name": "python",
      "nbconvert_exporter": "python",
      "pygments_lexer": "ipython3",
      "version": "3.12.3"
    }
  },
  "nbformat": 4,
  "nbformat_minor": 0
}
